{
 "cells": [
  {
   "cell_type": "code",
   "execution_count": 1,
   "metadata": {},
   "outputs": [
    {
     "name": "stdout",
     "output_type": "stream",
     "text": [
      "Collecting pygame\n",
      "  Downloading pygame-2.1.2-cp38-cp38-macosx_10_9_x86_64.whl (8.9 MB)\n",
      "\u001b[K     |████████████████████████████████| 8.9 MB 497 kB/s eta 0:00:01\n",
      "\u001b[?25hInstalling collected packages: pygame\n",
      "Successfully installed pygame-2.1.2\n"
     ]
    }
   ],
   "source": [
    "!pip install pygame"
   ]
  },
  {
   "cell_type": "code",
   "execution_count": 2,
   "metadata": {},
   "outputs": [
    {
     "name": "stdout",
     "output_type": "stream",
     "text": [
      "pygame 2.1.2 (SDL 2.0.18, Python 3.8.5)\n",
      "Hello from the pygame community. https://www.pygame.org/contribute.html\n"
     ]
    }
   ],
   "source": [
    "import pygame as pg"
   ]
  },
  {
   "cell_type": "markdown",
   "metadata": {},
   "source": []
  },
  {
   "cell_type": "code",
   "execution_count": 45,
   "metadata": {},
   "outputs": [
    {
     "name": "stdout",
     "output_type": "stream",
     "text": [
      "(328.5, 203.0)\n",
      "0.9727626459143969\n",
      "-1.028\n"
     ]
    }
   ],
   "source": [
    "pg.init()\n",
    "WIDTH, HEIGHT =  800, 500\n",
    "WIN = pg.display.set_mode((WIDTH, HEIGHT))\n",
    "pg.display.set_caption(\"Plate Sim\")\n",
    "\n",
    "def drawPoint(win, posx, posy):\n",
    "    color = (255,255,255)\n",
    "    center = (posx, posy)\n",
    "    pg.draw.circle(win, color, center, 5)\n",
    "\n",
    "def drawLine(win, start, end):\n",
    "    color = (255,0,0)\n",
    "    pg.draw.line(win, color, start, end)\n",
    "\n",
    "def getCenter(pos):\n",
    "    point = pg.Rect(pos[0], pos[1], 30, 30)\n",
    "    return point.center\n",
    "\n",
    "def main():\n",
    "    run = True\n",
    "    clock = pg.time.Clock()\n",
    "    p1 = (400, 250)\n",
    "    p2 = (257, 156)\n",
    "    midpoint = ( (p1[0] + p2[0])/2, (p1[1] + p2[1])/2)\n",
    "    slope = p1[1]/p2[0]\n",
    "    perp_slope = -(1/slope)\n",
    "    print(midpoint)\n",
    "    print(slope)\n",
    "\n",
    "    print(perp_slope)\n",
    "    #y = perp_slope(x)\n",
    "    #x = y/perp_slope\n",
    "    bisectStart = (midpoint[1]/perp_slope, midpoint[0] * perp_slope)\n",
    "    bisectEnd   = (HEIGHT/perp_slope, WIDTH * perp_slope)\n",
    "    while run:\n",
    "        clock.tick(60)\n",
    "        WIN.fill((0, 0, 0))\n",
    "\n",
    "        for event in pg.event.get():\n",
    "            if event.type == pg.QUIT:\n",
    "                run = False\n",
    "        drawPoint(WIN, p1[0], p1[1])\n",
    "        drawPoint(WIN, p2[0], p2[1])\n",
    "        drawPoint(WIN, midpoint[0], 0)\n",
    "        drawLine(WIN, p1, p2)\n",
    "        drawLine(WIN, (midpoint[0], 0), (midpoint[0], 500))\n",
    "        drawLine(WIN, bisectStart, bisectEnd)\n",
    "\n",
    "\n",
    "        pg.display.update()\n",
    "\n",
    "    pg.quit()\n",
    "\n",
    "main()"
   ]
  },
  {
   "cell_type": "code",
   "execution_count": 5,
   "metadata": {},
   "outputs": [],
   "source": [
    "pg.quit()"
   ]
  }
 ],
 "metadata": {
  "interpreter": {
   "hash": "40d3a090f54c6569ab1632332b64b2c03c39dcf918b08424e98f38b5ae0af88f"
  },
  "kernelspec": {
   "display_name": "Python 3.8.5 ('base')",
   "language": "python",
   "name": "python3"
  },
  "language_info": {
   "codemirror_mode": {
    "name": "ipython",
    "version": 3
   },
   "file_extension": ".py",
   "mimetype": "text/x-python",
   "name": "python",
   "nbconvert_exporter": "python",
   "pygments_lexer": "ipython3",
   "version": "3.8.5"
  },
  "orig_nbformat": 4
 },
 "nbformat": 4,
 "nbformat_minor": 2
}
